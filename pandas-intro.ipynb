{
 "cells": [
  {
   "cell_type": "markdown",
   "metadata": {},
   "source": [
    "Pandas Introduction"
   ]
  },
  {
   "cell_type": "code",
   "execution_count": null,
   "metadata": {},
   "outputs": [
    {
     "name": "stdout",
     "output_type": "stream",
     "text": [
      "Hello World\n"
     ]
    }
   ],
   "source": [
    "print(\"Hello World\")\n",
    "# Starting a program with Hello World :)"
   ]
  },
  {
   "cell_type": "code",
   "execution_count": 1,
   "metadata": {},
   "outputs": [
    {
     "name": "stdout",
     "output_type": "stream",
     "text": [
      "    A   B   C\n",
      "w   1   2   3\n",
      "x   4   5   6\n",
      "y   7   8   9\n",
      "z  10  11  12\n",
      "   A  B  C\n",
      "w  1  2  3\n",
      "x  4  5  6\n",
      "    A   B   C\n",
      "y   7   8   9\n",
      "z  10  11  12\n"
     ]
    }
   ],
   "source": [
    "import pandas as pd\n",
    "\n",
    "# Introduction to Dataframes\n",
    "# Dataframes are the main data structure of the Pandas library. These can be called as tables with extra functionalities.\n",
    "\n",
    "# Creating a Dataframe(arrayy_name or arra, columns, index)\n",
    "df = pd.DataFrame([[1, 2, 3], [4, 5, 6], [7, 8, 9], [10, 11, 12]], columns = [\"A\", \"B\", \"C\"], index = [\"w\", \"x\", \"y\", \"z\"])\n",
    "print(df)\n",
    "print(df.head(2))\n",
    "# df.head(1)  # To see top rows\n",
    "print(df.tail(2))  # To see bottom rows"
   ]
  },
  {
   "cell_type": "code",
   "execution_count": 7,
   "metadata": {},
   "outputs": [
    {
     "name": "stdout",
     "output_type": "stream",
     "text": [
      "Index(['A', 'B', 'C'], dtype='object')\n",
      "Index(['w', 'x', 'y', 'z'], dtype='object')\n",
      "['w', 'x', 'y', 'z']\n",
      "<class 'pandas.core.frame.DataFrame'>\n",
      "Index: 4 entries, w to z\n",
      "Data columns (total 3 columns):\n",
      " #   Column  Non-Null Count  Dtype\n",
      "---  ------  --------------  -----\n",
      " 0   A       4 non-null      int64\n",
      " 1   B       4 non-null      int64\n",
      " 2   C       4 non-null      int64\n",
      "dtypes: int64(3)\n",
      "memory usage: 128.0+ bytes\n",
      "None\n"
     ]
    }
   ],
   "source": [
    "import pandas as pd\n",
    "\n",
    "df = pd.DataFrame([[1, 2, 3], [4, 5, 6], [7, 8, 9], [10, 11, 12]], columns = [\"A\", \"B\", \"C\"], index = [\"w\", \"x\", \"y\", \"z\"])\n",
    "print(df.columns)  # To see headers. Index(['A', 'B', 'C'], dtype='object'\n",
    "print(df.index)  # RangeIndex(start=0, stop=4, step=1) for not-specified indexes. Index(['A', 'B', 'C'], dtype='object')\n",
    "# Index(['w', 'x', 'y', 'z'], dtype='object') for specified indexes.\n",
    "print(df.index.tolist())  # ['w', 'x', 'y', 'z']\n",
    "print(df.info())  # To see information related to a dataframe"
   ]
  },
  {
   "cell_type": "code",
   "execution_count": 2,
   "metadata": {},
   "outputs": [
    {
     "name": "stdout",
     "output_type": "stream",
     "text": [
      "               A          B          C\n",
      "count   4.000000   4.000000   4.000000\n",
      "mean    5.500000   6.500000   7.500000\n",
      "std     3.872983   3.872983   3.872983\n",
      "min     1.000000   2.000000   3.000000\n",
      "25%     3.250000   4.250000   5.250000\n",
      "50%     5.500000   6.500000   7.500000\n",
      "75%     7.750000   8.750000   9.750000\n",
      "max    10.000000  11.000000  12.000000\n",
      "A    4\n",
      "B    4\n",
      "C    4\n",
      "dtype: int64\n",
      "[ 1  4  7 10]\n"
     ]
    }
   ],
   "source": [
    "import pandas as pd\n",
    "\n",
    "df = pd.DataFrame([[1, 2, 3], [4, 5, 6], [7, 8, 9], [10, 11, 12]], columns = [\"A\", \"B\", \"C\"], index = [\"w\", \"x\", \"y\", \"z\"])\n",
    "print(df.describe())  # To provide meaningful information about the data \n",
    "print(df.nunique())  # To find unique values in each column\n",
    "print(df['A'].unique())  # From a particular column"
   ]
  },
  {
   "cell_type": "code",
   "execution_count": 4,
   "metadata": {},
   "outputs": [
    {
     "name": "stdout",
     "output_type": "stream",
     "text": [
      "(4, 3)\n",
      "12\n"
     ]
    }
   ],
   "source": [
    "import pandas as pd\n",
    "\n",
    "df = pd.DataFrame([[1, 2, 3], [4, 5, 6], [7, 8, 9], [10, 11, 12]], columns = [\"A\", \"B\", \"C\"], index = [\"w\", \"x\", \"y\", \"z\"])\n",
    "print(df.shape)  # To check the shape of a dataset\n",
    "print(df.size)  # To check the total number of items in a dataset"
   ]
  }
 ],
 "metadata": {
  "kernelspec": {
   "display_name": "Python 3",
   "language": "python",
   "name": "python3"
  },
  "language_info": {
   "codemirror_mode": {
    "name": "ipython",
    "version": 3
   },
   "file_extension": ".py",
   "mimetype": "text/x-python",
   "name": "python",
   "nbconvert_exporter": "python",
   "pygments_lexer": "ipython3",
   "version": "3.11.9"
  }
 },
 "nbformat": 4,
 "nbformat_minor": 2
}
